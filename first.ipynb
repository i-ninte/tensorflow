{
  "nbformat": 4,
  "nbformat_minor": 0,
  "metadata": {
    "colab": {
      "provenance": []
    },
    "kernelspec": {
      "name": "python3",
      "display_name": "Python 3"
    },
    "language_info": {
      "name": "python"
    }
  },
  "cells": [
    {
      "cell_type": "code",
      "execution_count": 5,
      "metadata": {
        "id": "0X9oOOQEkbxG"
      },
      "outputs": [],
      "source": [
        "import tensorflow as tf\n",
        "\n",
        "class MyModel(tf.keras.Model):\n",
        "    def __init__(self):\n",
        "        super(MyModel, self).__init__()\n",
        "        #define Neural Network layer types\n",
        "        self.conv = tf.keras.layers.Conv2D(32, 3, activation='relu')\n",
        "        self.flatten = tf.keras.layers.Flatten()\n",
        "        self.dense1 = tf.keras.layers.Dense(128, activation='relu')\n",
        "        self.dense2 = tf.keras.layers.Dense(10)\n",
        "\n",
        "    #run my neural network model by evaluating each layer on my input data\n",
        "    def call(self, x):\n",
        "        x = self.conv(x)\n",
        "        x = self.flatten(x)\n",
        "        x = self.dense1(x)\n",
        "        x = self.dense2(x)\n",
        "        return x\n",
        "\n",
        "#create an instance of the model\n",
        "model = MyModel()\n",
        "\n"
      ]
    },
    {
      "cell_type": "markdown",
      "source": [
        " the above code creates  a neural network model\n",
        " This is a custom class that extends the tf.keras.Model base class\n",
        "It defines four specific kinds of tf.keras.layers\n",
        "It has a call function which will run an input through those layers (functions)"
      ],
      "metadata": {
        "id": "Bf7pr-uUnq_P"
      }
    },
    {
      "cell_type": "markdown",
      "source": [],
      "metadata": {
        "id": "Q-aQRrvXnJSt"
      }
    }
  ]
}